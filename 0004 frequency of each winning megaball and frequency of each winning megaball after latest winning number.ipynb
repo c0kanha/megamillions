{
 "cells": [
  {
   "cell_type": "code",
   "execution_count": 1,
   "metadata": {
    "collapsed": true
   },
   "outputs": [],
   "source": [
    "#importing required modules \n",
    "import datetime\n",
    "import numpy as np\n",
    "import pandas as pd\n",
    "import matplotlib.pyplot as plt"
   ]
  },
  {
   "cell_type": "code",
   "execution_count": 2,
   "metadata": {
    "collapsed": true
   },
   "outputs": [],
   "source": [
    "#creating column names\n",
    "#loading csv file into a dataframe and assigning columns names as well\n",
    "tbl_cols = ['draw_dt', 'first_num', 'second_num', 'third_num', 'fourth_num', 'fifth_num', 'mega_ball']\n",
    "mm_tbl = pd.read_csv('winning_numbers_by_date_pd.txt',  header=None, names=tbl_cols, parse_dates=['draw_dt'])"
   ]
  },
  {
   "cell_type": "code",
   "execution_count": 3,
   "metadata": {
    "collapsed": true
   },
   "outputs": [],
   "source": [
    "#build next draw date \n",
    "mm_tbl.loc[mm_tbl['draw_dt'].dt.dayofweek == 1.0, 'next_draw_dt'] = mm_tbl['draw_dt'] + datetime.timedelta(3)\n",
    "mm_tbl.loc[mm_tbl['draw_dt'].dt.dayofweek == 4.0, 'next_draw_dt'] = mm_tbl['draw_dt'] + datetime.timedelta(4)"
   ]
  },
  {
   "cell_type": "code",
   "execution_count": 4,
   "metadata": {
    "collapsed": true
   },
   "outputs": [],
   "source": [
    "#latest winning megaball\n",
    "last_winning_megaball = mm_tbl.loc[mm_tbl['draw_dt'].idxmax()]['mega_ball']"
   ]
  },
  {
   "cell_type": "code",
   "execution_count": 5,
   "metadata": {},
   "outputs": [
    {
     "data": {
      "image/png": "[encoded data removed]",
      "text/plain": [
       "<matplotlib.figure.Figure at 0x111480908>"
      ]
     },
     "metadata": {},
     "output_type": "display_data"
    }
   ],
   "source": [
    "#winning frequency series of megaball\n",
    "freq_tble = mm_tbl['mega_ball'].value_counts()\n",
    "\n",
    "#if no occurance of any megaball, assign zero value \n",
    "for i in range(1,16):\n",
    "    if freq_tble.get(i) == None:\n",
    "        freq_tble[i] = 0\n",
    "\n",
    "#store megaball numbers in x-axis and corrresponding values in y-axis        \n",
    "x = freq_tble.sort_index().index\n",
    "y1 = freq_tble.sort_index().values\n",
    "\n",
    "#build a series of next dates of latest winning megaball\n",
    "next_win_dt = mm_tbl.loc[mm_tbl['mega_ball'] == last_winning_megaball]['next_draw_dt']\n",
    "\n",
    "#winning frequency series of megaball after latest winning ball\n",
    "freq_tble = pd.merge(mm_tbl,\n",
    "                     pd.DataFrame(next_win_dt),\n",
    "                     left_on='draw_dt',\n",
    "                     right_on='next_draw_dt'\n",
    "                    )['mega_ball'].value_counts() \n",
    "\n",
    "#if no occurance of any megaball, assign zero value \n",
    "for i in range(1,16):\n",
    "    if freq_tble.get(i) == None:\n",
    "        freq_tble[i] = 0\n",
    "\n",
    "#store megaball winning frequency values in y-axis \n",
    "y2 = freq_tble.sort_index().values\n",
    "\n",
    "N = 15\n",
    "\n",
    "ind = np.arange(N)  # the x locations for the groups\n",
    "width = 0.35       # the width of the bars\n",
    "\n",
    "fig, ax = plt.subplots(figsize=(20,10))\n",
    "rects1 = ax.bar(ind, y1, width, color='y')\n",
    "rects2 = ax.bar(ind + width, y2, width, color='r')\n",
    "\n",
    "# add some text for labels, title and axes ticks\n",
    "ax.set_ylabel('frequency')\n",
    "ax.set_title('winning number frequency')\n",
    "ax.set_xticks(ind + width / 2)\n",
    "ax.set_xticklabels((ind + 1))\n",
    "\n",
    "ax.legend((rects1[0], rects2[0]), ('overall', 'interested'))\n",
    "\n",
    "def autolabel(rects):\n",
    "    for rect in rects:\n",
    "        ax.text(rect.get_x() + rect.get_width(), \n",
    "                rect.get_height(), \n",
    "                int(rect.get_height()), \n",
    "                ha='center', \n",
    "                va='bottom')\n",
    "\n",
    "autolabel(rects1)\n",
    "autolabel(rects2)\n",
    "\n",
    "plt.show()"
   ]
  }
 ],
 "metadata": {
  "kernelspec": {
   "display_name": "Python 3",
   "language": "python",
   "name": "python3"
  },
  "language_info": {
   "codemirror_mode": {
    "name": "ipython",
    "version": 3
   },
   "file_extension": ".py",
   "mimetype": "text/x-python",
   "name": "python",
   "nbconvert_exporter": "python",
   "pygments_lexer": "ipython3",
   "version": "3.6.1"
  }
 },
 "nbformat": 4,
 "nbformat_minor": 2
}
