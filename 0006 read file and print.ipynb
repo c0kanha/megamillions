{
 "cells": [
  {
   "cell_type": "markdown",
   "metadata": {},
   "source": [
    "①\tUsing the with pattern, you safely open the file and let Python close it for you.\n",
    "\n",
    "②\tTo read a file one line at a time, use a for loop. That’s it. Besides having explicit methods like read(), the stream object is also an iterator which spits out a single line every time you ask for a value.\n",
    "\n",
    "③\tUsing the format() string method, you can print out the line number and the line itself. The format specifier {:>4} means “print this argument right-justified within 4 spaces.” The a_line variable contains the complete line, carriage returns and all. The rstrip() string method removes the trailing whitespace, including the carriage return characters."
   ]
  },
  {
   "cell_type": "code",
   "execution_count": null,
   "metadata": {},
   "outputs": [],
   "source": [
    "line_number = 0\n",
    "with open('winning_numbers_by_date.txt', encoding='utf-8') as a_file:\n",
    "    for a_line in a_file:                                              \n",
    "        line_number += 1\n",
    "        print('{:>4} {}'.format(line_number, a_line.rstrip())) "
   ]
  },
  {
   "cell_type": "code",
   "execution_count": null,
   "metadata": {},
   "outputs": [],
   "source": [
    "a_file.name, a_file.encoding, a_file.mode"
   ]
  }
 ],
 "metadata": {
  "kernelspec": {
   "display_name": "Python 3",
   "language": "python",
   "name": "python3"
  },
  "language_info": {
   "codemirror_mode": {
    "name": "ipython",
    "version": 3
   },
   "file_extension": ".py",
   "mimetype": "text/x-python",
   "name": "python",
   "nbconvert_exporter": "python",
   "pygments_lexer": "ipython3",
   "version": "3.6.1"
  }
 },
 "nbformat": 4,
 "nbformat_minor": 2
}
