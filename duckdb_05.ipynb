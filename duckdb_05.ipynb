{
 "cells": [
  {
   "cell_type": "code",
   "execution_count": 11,
   "id": "e5ba9db0-3ce5-4495-bec7-c4af940bedb9",
   "metadata": {},
   "outputs": [],
   "source": [
    "import duckdb\n",
    "from datetime import datetime, timedelta\n",
    "import pandas as pd\n",
    "\n",
    "# Get yesterday's date\n",
    "yesterday = datetime.today() - timedelta(days=1)\n",
    "\n",
    "# Manually format the file name and db-name\n",
    "yesterday_file = f\"data/{yesterday.month}_{yesterday.day}_{yesterday.year}_A.csv\"\n",
    "yesterday_db = f\"data/{yesterday.month}_{yesterday.day}_{yesterday.year}_A.db\"\n",
    "\n",
    "# Read the CSV file into a DataFrame\n",
    "df = pd.read_csv(yesterday_file)\n",
    "\n",
    "# Ensure column names are correct and strip any extra spaces\n",
    "df.columns = df.columns.str.strip()\n",
    "\n",
    "# Check if 'Numbers' is the correct column name\n",
    "if 'Numbers' not in df.columns:\n",
    "    raise KeyError(f\"'Numbers' column not found. Available columns are: {df.columns}\")\n",
    "\n",
    "# Split the 'Numbers' column into 5 separate columns\n",
    "df[['num1', 'num2', 'num3', 'num4', 'num5']] = df['Numbers'].str.split(' ', expand=True).astype(int)\n",
    "\n",
    "# Drop the original 'Numbers' column as it's no longer needed\n",
    "df.drop(columns=['Numbers'], inplace=True)\n",
    "\n",
    "# Connect to DuckDB and create a permanent table\n",
    "con = duckdb.connect('yesterday_db')\n",
    "\n",
    "# Create the table if it doesn't exist\n",
    "con.execute('''\n",
    "CREATE TABLE IF NOT EXISTS numbers_data (\n",
    "    Date TEXT PRIMARY KEY,\n",
    "    num1 INTEGER,\n",
    "    num2 INTEGER,\n",
    "    num3 INTEGER,\n",
    "    num4 INTEGER,\n",
    "    num5 INTEGER\n",
    ")\n",
    "''')\n",
    "\n",
    "# Insert the DataFrame data into the DuckDB table\n",
    "con.execute(\"INSERT INTO numbers_data SELECT * FROM df\")\n",
    "\n",
    "# Close the DuckDB connection\n",
    "con.close()"
   ]
  }
 ],
 "metadata": {
  "kernelspec": {
   "display_name": "Python 3 (ipykernel)",
   "language": "python",
   "name": "python3"
  },
  "language_info": {
   "codemirror_mode": {
    "name": "ipython",
    "version": 3
   },
   "file_extension": ".py",
   "mimetype": "text/x-python",
   "name": "python",
   "nbconvert_exporter": "python",
   "pygments_lexer": "ipython3",
   "version": "3.11.2"
  }
 },
 "nbformat": 4,
 "nbformat_minor": 5
}
