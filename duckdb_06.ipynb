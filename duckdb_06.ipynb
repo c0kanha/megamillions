{
 "cells": [
  {
   "cell_type": "code",
   "execution_count": 2,
   "id": "d77b57aa-591b-4be7-bee7-330f5b2581d6",
   "metadata": {},
   "outputs": [
    {
     "name": "stdout",
     "output_type": "stream",
     "text": [
      "4 8 17 32 45\n"
     ]
    }
   ],
   "source": [
    "import duckdb\n",
    "from datetime import datetime, timedelta\n",
    "import pandas as pd\n",
    "\n",
    "# Get yesterday's date\n",
    "yesterday = datetime.today() - timedelta(days=1)\n",
    "\n",
    "# Manually format the db-name\n",
    "yesterday_db = f\"data/{yesterday.month}_{yesterday.day}_{yesterday.year}_A.db\"\n",
    "\n",
    "# Connect to the DuckDB database\n",
    "con = duckdb.connect('yesterday_db')\n",
    "\n",
    "# Define the updated SQL query\n",
    "query = '''\n",
    "WITH numbered AS (\n",
    "    SELECT number,\n",
    "           COUNT(*) AS count,\n",
    "           ROW_NUMBER() OVER (ORDER BY COUNT(*) DESC) AS seq\n",
    "    FROM (\n",
    "        SELECT num1 AS number FROM numbers_data\n",
    "        UNION ALL\n",
    "        SELECT num2 FROM numbers_data\n",
    "        UNION ALL\n",
    "        SELECT num3 FROM numbers_data\n",
    "        UNION ALL\n",
    "        SELECT num4 FROM numbers_data\n",
    "        UNION ALL\n",
    "        SELECT num5 FROM numbers_data\n",
    "    ) combined_numbers\n",
    "    GROUP BY number\n",
    "),\n",
    "top_number AS (\n",
    "    SELECT number\n",
    "    FROM numbered\n",
    "    WHERE seq BETWEEN 1 AND 5\n",
    "    ORDER BY RANDOM()\n",
    "    LIMIT 1\n",
    "),\n",
    "range_6_35 AS (\n",
    "    SELECT number\n",
    "    FROM numbered\n",
    "    WHERE seq BETWEEN 6 AND 35\n",
    "    ORDER BY RANDOM()\n",
    "    LIMIT 3\n",
    "),\n",
    "range_36_45 AS (\n",
    "    SELECT number\n",
    "    FROM numbered\n",
    "    WHERE seq BETWEEN 36 AND 45\n",
    "    ORDER BY RANDOM()\n",
    "    LIMIT 1\n",
    "),\n",
    "pick_5 AS (\n",
    "    SELECT number FROM top_number \n",
    "    UNION ALL\n",
    "    SELECT number FROM range_6_35 \n",
    "    UNION ALL\n",
    "    SELECT number FROM range_36_45\n",
    ")\n",
    "\n",
    "FROM pick_5\n",
    "ORDER BY number;\n",
    "'''\n",
    "\n",
    "# Execute the query and fetch results\n",
    "result = con.execute(query).fetchall()\n",
    "\n",
    "# Convert result to a space-separated string\n",
    "formatted_result = ' '.join(str(row[0]) for row in result)\n",
    "\n",
    "# Print the formatted result\n",
    "print(formatted_result)\n",
    "\n",
    "# Close the DuckDB connection\n",
    "con.close()\n"
   ]
  },
  {
   "cell_type": "code",
   "execution_count": null,
   "id": "389baf09-da17-45ae-b3e7-398b7144d6a3",
   "metadata": {},
   "outputs": [],
   "source": []
  }
 ],
 "metadata": {
  "kernelspec": {
   "display_name": "Python 3 (ipykernel)",
   "language": "python",
   "name": "python3"
  },
  "language_info": {
   "codemirror_mode": {
    "name": "ipython",
    "version": 3
   },
   "file_extension": ".py",
   "mimetype": "text/x-python",
   "name": "python",
   "nbconvert_exporter": "python",
   "pygments_lexer": "ipython3",
   "version": "3.11.2"
  }
 },
 "nbformat": 4,
 "nbformat_minor": 5
}
