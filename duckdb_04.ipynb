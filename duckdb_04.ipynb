{
 "cells": [
  {
   "cell_type": "code",
   "execution_count": 3,
   "id": "145065e6-625a-489f-9355-f65576e4a9ae",
   "metadata": {},
   "outputs": [
    {
     "name": "stdout",
     "output_type": "stream",
     "text": [
      "Copied data/9_8_2024_A.csv to data/9_9_2024_A.csv and added a new row.\n"
     ]
    }
   ],
   "source": [
    "import os\n",
    "from datetime import datetime, timedelta\n",
    "import csv\n",
    "\n",
    "# update this row\n",
    "new_row = ['09/09/2024', '03 05 13 17 39']  \n",
    "\n",
    "# Get today's and yesterday's dates\n",
    "today = datetime.today()\n",
    "yesterday = today - timedelta(days=1)\n",
    "\n",
    "# Manually format the file names without leading zeros for month and day\n",
    "today_file = f\"{today.month}_{today.day}_{today.year}_A.csv\"\n",
    "yesterday_file = f\"{yesterday.month}_{yesterday.day}_{yesterday.year}_A.csv\"\n",
    "\n",
    "##today_file = 'data/9_9_2024_A.csv'\n",
    "##yesterday_file = 'data/9_8_2024_A.csv'\n",
    "\n",
    "# Read content from yesterday's file\n",
    "if os.path.exists(yesterday_file):\n",
    "    with open(yesterday_file, 'r') as old_file:\n",
    "        reader = csv.reader(old_file)\n",
    "        rows = list(reader)\n",
    "    \n",
    "    # Add a new row that follows the same format as the existing data\n",
    "    rows.append(new_row)\n",
    "    \n",
    "    # Write to today's file\n",
    "    with open(today_file, 'w', newline='') as new_file:\n",
    "        writer = csv.writer(new_file)\n",
    "        writer.writerows(rows)\n",
    "        \n",
    "    print(f\"Copied {yesterday_file} to {today_file} and added a new row.\")\n",
    "else:\n",
    "    print(f\"Yesterday's file '{yesterday_file}' does not exist.\")"
   ]
  },
  {
   "cell_type": "code",
   "execution_count": null,
   "id": "598c07ae-4dca-4d49-8c87-7df393883433",
   "metadata": {},
   "outputs": [],
   "source": []
  }
 ],
 "metadata": {
  "kernelspec": {
   "display_name": "Python 3 (ipykernel)",
   "language": "python",
   "name": "python3"
  },
  "language_info": {
   "codemirror_mode": {
    "name": "ipython",
    "version": 3
   },
   "file_extension": ".py",
   "mimetype": "text/x-python",
   "name": "python",
   "nbconvert_exporter": "python",
   "pygments_lexer": "ipython3",
   "version": "3.11.2"
  }
 },
 "nbformat": 4,
 "nbformat_minor": 5
}
