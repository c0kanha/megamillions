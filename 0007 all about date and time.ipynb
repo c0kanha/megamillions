{
 "cells": [
  {
   "cell_type": "code",
   "execution_count": 1,
   "metadata": {},
   "outputs": [
    {
     "name": "stdout",
     "output_type": "stream",
     "text": [
      "2016-07-24\n"
     ]
    }
   ],
   "source": [
    "import datetime\n",
    "d = datetime.date(2016, 7, 24)\n",
    "print(d)"
   ]
  },
  {
   "cell_type": "code",
   "execution_count": 2,
   "metadata": {},
   "outputs": [
    {
     "data": {
      "text/plain": [
       "datetime.date(2016, 7, 24)"
      ]
     },
     "execution_count": 2,
     "metadata": {},
     "output_type": "execute_result"
    }
   ],
   "source": [
    "d"
   ]
  },
  {
   "cell_type": "code",
   "execution_count": 3,
   "metadata": {},
   "outputs": [
    {
     "name": "stdout",
     "output_type": "stream",
     "text": [
      "2017-09-30\n",
      "2017\n",
      "9\n",
      "30\n",
      "5\n",
      "6\n"
     ]
    }
   ],
   "source": [
    "tday = datetime.date.today()\n",
    "print(tday)\n",
    "print(tday.year)\n",
    "print(tday.month)\n",
    "print(tday.day)\n",
    "\n",
    "#Monday = 0, Tuesday = 1, Wednesday = 2, Thursday = 3, Friday = 4, Saturday = 5 and Sunday = 6 \n",
    "print(tday.weekday())\n",
    "\n",
    "#Monday = 1, Tuesday = 2, Wednesday = 3, Thursday = 4, Friday = 5, Saturday = 6 and Sunday = 7 \n",
    "print(tday.isoweekday())"
   ]
  },
  {
   "cell_type": "code",
   "execution_count": 4,
   "metadata": {},
   "outputs": [
    {
     "name": "stdout",
     "output_type": "stream",
     "text": [
      "2017-10-07\n"
     ]
    }
   ],
   "source": [
    "tdelta = datetime.timedelta(days=7)\n",
    "print (tday + tdelta)"
   ]
  },
  {
   "cell_type": "code",
   "execution_count": 5,
   "metadata": {},
   "outputs": [
    {
     "name": "stdout",
     "output_type": "stream",
     "text": [
      "2018-07-15\n"
     ]
    }
   ],
   "source": [
    "next_bday = datetime.date(2018, 7, 15)\n",
    "print(next_bday) "
   ]
  },
  {
   "cell_type": "code",
   "execution_count": 6,
   "metadata": {},
   "outputs": [
    {
     "name": "stdout",
     "output_type": "stream",
     "text": [
      "288 days, 0:00:00\n",
      "288\n",
      "24883200.0\n"
     ]
    }
   ],
   "source": [
    "till_bday = next_bday - tday\n",
    "print(till_bday)\n",
    "print(till_bday.days)\n",
    "print(till_bday.total_seconds())"
   ]
  },
  {
   "cell_type": "code",
   "execution_count": 7,
   "metadata": {},
   "outputs": [
    {
     "name": "stdout",
     "output_type": "stream",
     "text": [
      "21:59:07.000089\n",
      "21\n"
     ]
    }
   ],
   "source": [
    "t = datetime.time(21, 59, 7, 89)\n",
    "print(t)\n",
    "print(t.hour)"
   ]
  },
  {
   "cell_type": "code",
   "execution_count": 8,
   "metadata": {},
   "outputs": [
    {
     "name": "stdout",
     "output_type": "stream",
     "text": [
      "2017-08-08 13:06:56.897809\n",
      "2017-08-08\n",
      "13:06:56.897809\n"
     ]
    }
   ],
   "source": [
    "dt = datetime.datetime(2017, 8, 8, 13, 6, 56, 897809)\n",
    "print(dt)\n",
    "print(dt.date())\n",
    "print(dt.time())"
   ]
  }
 ],
 "metadata": {
  "kernelspec": {
   "display_name": "Python 3",
   "language": "python",
   "name": "python3"
  },
  "language_info": {
   "codemirror_mode": {
    "name": "ipython",
    "version": 3
   },
   "file_extension": ".py",
   "mimetype": "text/x-python",
   "name": "python",
   "nbconvert_exporter": "python",
   "pygments_lexer": "ipython3",
   "version": "3.6.1"
  }
 },
 "nbformat": 4,
 "nbformat_minor": 2
}
