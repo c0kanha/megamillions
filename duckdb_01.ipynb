{
 "cells": [
  {
   "cell_type": "code",
   "execution_count": 4,
   "id": "c6467217-98a9-4629-a238-0ca8050a18d6",
   "metadata": {},
   "outputs": [
    {
     "name": "stdout",
     "output_type": "stream",
     "text": [
      "         Date         Numbers\n",
      "0  09/07/2024  08 11 16 22 26\n",
      "1  09/06/2024  06 20 25 35 40\n",
      "2  09/05/2024  02 08 09 13 42\n",
      "3  09/04/2024  03 22 29 31 45\n",
      "4  09/03/2024  12 30 32 33 42\n",
      "Index(['Date', 'Numbers'], dtype='object')\n",
      "DuckDB permanent table created successfully!\n"
     ]
    }
   ],
   "source": [
    "import duckdb\n",
    "import pandas as pd\n",
    "\n",
    "# Path to your CSV file\n",
    "csv_file_path = 'data/9_7_24_A.csv'  # Replace with your actual CSV file path\n",
    "\n",
    "# Read the CSV file into a DataFrame\n",
    "df = pd.read_csv(csv_file_path)\n",
    "\n",
    "# Print the first few rows and column names to debug\n",
    "print(df.head())\n",
    "print(df.columns)\n",
    "\n",
    "# Ensure column names are correct and strip any extra spaces\n",
    "df.columns = df.columns.str.strip()\n",
    "\n",
    "# Check if 'Numbers' is the correct column name\n",
    "if 'Numbers' not in df.columns:\n",
    "    raise KeyError(f\"'Numbers' column not found. Available columns are: {df.columns}\")\n",
    "\n",
    "# Split the 'Numbers' column into 5 separate columns\n",
    "df[['num1', 'num2', 'num3', 'num4', 'num5']] = df['Numbers'].str.split(' ', expand=True).astype(int)\n",
    "\n",
    "# Drop the original 'Numbers' column as it's no longer needed\n",
    "df.drop(columns=['Numbers'], inplace=True)\n",
    "\n",
    "# Connect to DuckDB and create a permanent table\n",
    "con = duckdb.connect('ducdb.duckdb')\n",
    "\n",
    "# Create the table if it doesn't exist\n",
    "con.execute('''\n",
    "CREATE TABLE IF NOT EXISTS numbers_data (\n",
    "    Date TEXT,\n",
    "    num1 INTEGER,\n",
    "    num2 INTEGER,\n",
    "    num3 INTEGER,\n",
    "    num4 INTEGER,\n",
    "    num5 INTEGER\n",
    ")\n",
    "''')\n",
    "\n",
    "# Insert the DataFrame data into the DuckDB table\n",
    "con.execute(\"INSERT INTO numbers_data SELECT * FROM df\")\n",
    "\n",
    "# Close the DuckDB connection\n",
    "con.close()\n",
    "\n",
    "print(\"DuckDB permanent table created successfully!\")"
   ]
  },
  {
   "cell_type": "code",
   "execution_count": null,
   "id": "c40c3d1a-c3f5-4370-9b51-0beaabb43548",
   "metadata": {},
   "outputs": [],
   "source": []
  }
 ],
 "metadata": {
  "kernelspec": {
   "display_name": "Python 3 (ipykernel)",
   "language": "python",
   "name": "python3"
  },
  "language_info": {
   "codemirror_mode": {
    "name": "ipython",
    "version": 3
   },
   "file_extension": ".py",
   "mimetype": "text/x-python",
   "name": "python",
   "nbconvert_exporter": "python",
   "pygments_lexer": "ipython3",
   "version": "3.11.2"
  }
 },
 "nbformat": 4,
 "nbformat_minor": 5
}
