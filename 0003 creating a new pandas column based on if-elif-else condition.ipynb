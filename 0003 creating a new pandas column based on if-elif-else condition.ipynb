{
 "cells": [
  {
   "cell_type": "code",
   "execution_count": 1,
   "metadata": {
    "collapsed": true
   },
   "outputs": [],
   "source": [
    "#importing required modules \n",
    "import datetime\n",
    "import numpy as np\n",
    "import pandas as pd\n",
    "import matplotlib.pyplot as plt"
   ]
  },
  {
   "cell_type": "code",
   "execution_count": 2,
   "metadata": {
    "collapsed": true
   },
   "outputs": [],
   "source": [
    "#creating column names\n",
    "#loading csv file into a dataframe and assigning columns names as well\n",
    "tbl_cols = ['draw_dt', 'first_num', 'second_num', 'third_num', 'fourth_num', 'fifth_num', 'mega_ball']\n",
    "mm_tbl = pd.read_csv('winning_numbers_by_date_pd.txt',  header=None, names=tbl_cols, parse_dates=['draw_dt'])"
   ]
  },
  {
   "cell_type": "code",
   "execution_count": 7,
   "metadata": {},
   "outputs": [],
   "source": [
    "mm_tbl.loc[mm_tbl['draw_dt'].dt.dayofweek == 1.0, 'next_draw_dt'] = mm_tbl['draw_dt'] + datetime.timedelta(3)\n",
    "mm_tbl.loc[mm_tbl['draw_dt'].dt.dayofweek == 4.0, 'next_draw_dt'] = mm_tbl['draw_dt'] + datetime.timedelta(4)"
   ]
  },
  {
   "cell_type": "code",
   "execution_count": 9,
   "metadata": {},
   "outputs": [
    {
     "data": {
      "text/html": [
       "<div>\n",
       "<style>\n",
       "    .dataframe thead tr:only-child th {\n",
       "        text-align: right;\n",
       "    }\n",
       "\n",
       "    .dataframe thead th {\n",
       "        text-align: left;\n",
       "    }\n",
       "\n",
       "    .dataframe tbody tr th {\n",
       "        vertical-align: top;\n",
       "    }\n",
       "</style>\n",
       "<table border=\"1\" class=\"dataframe\">\n",
       "  <thead>\n",
       "    <tr style=\"text-align: right;\">\n",
       "      <th></th>\n",
       "      <th>draw_dt</th>\n",
       "      <th>first_num</th>\n",
       "      <th>second_num</th>\n",
       "      <th>third_num</th>\n",
       "      <th>fourth_num</th>\n",
       "      <th>fifth_num</th>\n",
       "      <th>mega_ball</th>\n",
       "      <th>next_draw_dt</th>\n",
       "    </tr>\n",
       "  </thead>\n",
       "  <tbody>\n",
       "    <tr>\n",
       "      <th>0</th>\n",
       "      <td>2017-09-29</td>\n",
       "      <td>25</td>\n",
       "      <td>51</td>\n",
       "      <td>62</td>\n",
       "      <td>73</td>\n",
       "      <td>74</td>\n",
       "      <td>7</td>\n",
       "      <td>2017-10-03</td>\n",
       "    </tr>\n",
       "    <tr>\n",
       "      <th>1</th>\n",
       "      <td>2017-09-26</td>\n",
       "      <td>1</td>\n",
       "      <td>10</td>\n",
       "      <td>57</td>\n",
       "      <td>66</td>\n",
       "      <td>75</td>\n",
       "      <td>4</td>\n",
       "      <td>2017-09-29</td>\n",
       "    </tr>\n",
       "    <tr>\n",
       "      <th>2</th>\n",
       "      <td>2017-09-22</td>\n",
       "      <td>5</td>\n",
       "      <td>39</td>\n",
       "      <td>54</td>\n",
       "      <td>63</td>\n",
       "      <td>66</td>\n",
       "      <td>15</td>\n",
       "      <td>2017-09-26</td>\n",
       "    </tr>\n",
       "    <tr>\n",
       "      <th>3</th>\n",
       "      <td>2017-09-19</td>\n",
       "      <td>9</td>\n",
       "      <td>28</td>\n",
       "      <td>31</td>\n",
       "      <td>50</td>\n",
       "      <td>61</td>\n",
       "      <td>10</td>\n",
       "      <td>2017-09-22</td>\n",
       "    </tr>\n",
       "    <tr>\n",
       "      <th>4</th>\n",
       "      <td>2017-09-15</td>\n",
       "      <td>18</td>\n",
       "      <td>24</td>\n",
       "      <td>34</td>\n",
       "      <td>38</td>\n",
       "      <td>58</td>\n",
       "      <td>3</td>\n",
       "      <td>2017-09-19</td>\n",
       "    </tr>\n",
       "  </tbody>\n",
       "</table>\n",
       "</div>"
      ],
      "text/plain": [
       "     draw_dt  first_num  second_num  third_num  fourth_num  fifth_num  \\\n",
       "0 2017-09-29         25          51         62          73         74   \n",
       "1 2017-09-26          1          10         57          66         75   \n",
       "2 2017-09-22          5          39         54          63         66   \n",
       "3 2017-09-19          9          28         31          50         61   \n",
       "4 2017-09-15         18          24         34          38         58   \n",
       "\n",
       "   mega_ball next_draw_dt  \n",
       "0          7   2017-10-03  \n",
       "1          4   2017-09-29  \n",
       "2         15   2017-09-26  \n",
       "3         10   2017-09-22  \n",
       "4          3   2017-09-19  "
      ]
     },
     "execution_count": 9,
     "metadata": {},
     "output_type": "execute_result"
    }
   ],
   "source": [
    "mm_tbl.head()"
   ]
  }
 ],
 "metadata": {
  "kernelspec": {
   "display_name": "Python 3",
   "language": "python",
   "name": "python3"
  },
  "language_info": {
   "codemirror_mode": {
    "name": "ipython",
    "version": 3
   },
   "file_extension": ".py",
   "mimetype": "text/x-python",
   "name": "python",
   "nbconvert_exporter": "python",
   "pygments_lexer": "ipython3",
   "version": "3.6.1"
  }
 },
 "nbformat": 4,
 "nbformat_minor": 2
}
