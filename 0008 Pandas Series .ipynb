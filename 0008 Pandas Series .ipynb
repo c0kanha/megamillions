{
 "cells": [
  {
   "cell_type": "code",
   "execution_count": 2,
   "metadata": {
    "collapsed": true
   },
   "outputs": [],
   "source": [
    "import pandas as pd\n",
    "import numpy as np"
   ]
  },
  {
   "cell_type": "code",
   "execution_count": 3,
   "metadata": {
    "collapsed": true
   },
   "outputs": [],
   "source": [
    "# series constructor with data as a list of integers\n",
    "s1 = pd.Series([33, 19, 15, 89, 11, -5, 9])"
   ]
  },
  {
   "cell_type": "code",
   "execution_count": 4,
   "metadata": {
    "collapsed": true
   },
   "outputs": [],
   "source": [
    "# define the data and index as lists\n",
    "data1 = [33, 19, 15, 89, 11, -5, 9]\n",
    "index1 = ['Mon','Tue','Wed','Thu','Fri','Sat','Sun']\n",
    "\n",
    "# create series \n",
    "s2 = pd.Series(data1, index=index1)\n",
    "\n",
    "# we can also give meaningful labels to the series data and the index\n",
    "s2.name='Daily Temperatures'\n",
    "s2.index.name='Weekday'"
   ]
  },
  {
   "cell_type": "code",
   "execution_count": 5,
   "metadata": {
    "collapsed": true
   },
   "outputs": [],
   "source": [
    "# the second data element in the list is a float\n",
    "data2 = [33, 19.3, 15, 89, 11, -5, 9]\n",
    "\n",
    "s3 = pd.Series(data2, index=index1)"
   ]
  },
  {
   "cell_type": "code",
   "execution_count": 6,
   "metadata": {
    "collapsed": true
   },
   "outputs": [],
   "source": [
    "dict1 = {'Mon': 33, 'Tue': 19, 'Wed': 15, 'Thu': 89, 'Fri': 11, 'Sat': -5, 'Sun': 9}\n",
    "\n",
    "s4 = pd.Series(dict1)"
   ]
  },
  {
   "cell_type": "code",
   "execution_count": 7,
   "metadata": {},
   "outputs": [
    {
     "name": "stdout",
     "output_type": "stream",
     "text": [
      "0 11\n",
      "1 33\n",
      "2 -5\n",
      "3 9\n",
      "4 89\n",
      "5 19\n",
      "6 15\n"
     ]
    }
   ],
   "source": [
    "# looping over a collection and indices\n",
    "for i,v in enumerate(s4):\n",
    "    print (i,v)"
   ]
  },
  {
   "cell_type": "code",
   "execution_count": 8,
   "metadata": {},
   "outputs": [
    {
     "name": "stdout",
     "output_type": "stream",
     "text": [
      "Fri 11\n",
      "Mon 33\n",
      "Sat -5\n",
      "Sun 9\n",
      "Thu 89\n",
      "Tue 19\n",
      "Wed 15\n"
     ]
    }
   ],
   "source": [
    "# looping over dictionary keys and values\n",
    "for k,v in s4.iteritems():\n",
    "    print (k,v)"
   ]
  }
 ],
 "metadata": {
  "kernelspec": {
   "display_name": "Python 3",
   "language": "python",
   "name": "python3"
  },
  "language_info": {
   "codemirror_mode": {
    "name": "ipython",
    "version": 3
   },
   "file_extension": ".py",
   "mimetype": "text/x-python",
   "name": "python",
   "nbconvert_exporter": "python",
   "pygments_lexer": "ipython3",
   "version": "3.6.1"
  }
 },
 "nbformat": 4,
 "nbformat_minor": 2
}
