{
 "cells": [
  {
   "cell_type": "code",
   "execution_count": 1,
   "metadata": {
    "collapsed": true
   },
   "outputs": [],
   "source": [
    "import datetime"
   ]
  },
  {
   "cell_type": "code",
   "execution_count": 2,
   "metadata": {
    "collapsed": true
   },
   "outputs": [],
   "source": [
    "f = open('myfile', 'w')\n",
    "with open('winning_numbers_by_date.txt', encoding='utf-8') as a_file:\n",
    "    for a_line in a_file:                                              \n",
    "        t = eval(a_line.rstrip()) \n",
    "        n_line = ','.join([str(datetime.datetime.strptime(str(t[0]), \"%m/%d/%Y\").strftime(\"%Y-%m-%d\"))\n",
    "                       , str(t[1])\n",
    "                       , str(t[2])\n",
    "                       , str(t[3])\n",
    "                       , str(t[4])\n",
    "                       , str(t[5])\n",
    "                       , str(t[6])\n",
    "                      ])\n",
    "        f.write(n_line + '\\n')\n",
    "f.close()"
   ]
  }
 ],
 "metadata": {
  "kernelspec": {
   "display_name": "Python 3",
   "language": "python",
   "name": "python3"
  },
  "language_info": {
   "codemirror_mode": {
    "name": "ipython",
    "version": 3
   },
   "file_extension": ".py",
   "mimetype": "text/x-python",
   "name": "python",
   "nbconvert_exporter": "python",
   "pygments_lexer": "ipython3",
   "version": "3.6.1"
  }
 },
 "nbformat": 4,
 "nbformat_minor": 2
}
